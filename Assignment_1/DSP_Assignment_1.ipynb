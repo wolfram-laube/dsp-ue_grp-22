{
  "cells": [
    {
      "cell_type": "markdown",
      "metadata": {
        "id": "view-in-github",
        "colab_type": "text"
      },
      "source": [
        "<a href=\"https://colab.research.google.com/github/wolfram-laube/dsp-ue_grp-22/blob/main/Assignment_1/DSP_Assignment_1.ipynb\" target=\"_parent\"><img src=\"https://colab.research.google.com/assets/colab-badge.svg\" alt=\"Open In Colab\"/></a>"
      ]
    },
    {
      "cell_type": "markdown",
      "source": [
        "# Digital Signal Processing Tutorial (382.047/64/66/67/68/69/70), 2024S <br> Matthias Wagner, Bernhard Plaimer\n",
        "\n",
        "![](https://cdn.mathpix.com/cropped/2024_03_25_a7542b9dd769c78fe27fg-1.jpg?height=111&width=286&top_left_y=316&top_left_x=217)\n",
        "UNIVERSITY LINZ\n",
        "Assignment 1\n",
        "\n",
        "Analogue Signals and Systems\n",
        "\n",
        "Information about assignments and in particular on Moodle submission modalities can be found in DSP-Tutorial_2024S_Courselnfo.pdf.\n",
        "\n",
        "Submission deadline is Tue 16. April 2024, 08:00.\n",
        "\n",
        "## Exercise 1 Complex Numbers (20\\%)\n",
        "\n",
        "These complex numbers are given:\n",
        "\n",
        "$$\n",
        "\\begin{aligned}\n",
        "& c_{1}=-5+j 3 \\\\\n",
        "& c_{2}=\\frac{\\sqrt{2}}{2} e^{-\\frac{j 3 \\pi}{4}} \\\\\n",
        "& c_{3}=\\frac{1}{\\sqrt{2}}+\\frac{j 1}{\\sqrt{2}}\n",
        "\\end{aligned}\n",
        "$$\n",
        "\n",
        "Calculate the following numbers and show the calculations/derivations in the report.\n",
        "\n",
        "- $c_{4}=c_{1}+c_{2}$\n",
        "- $c_{5}=c_{1} \\cdot c_{2}$\n",
        "- $c_{6}=\\left|c_{3}\\right|^{2}$\n",
        "- $c_{7}=\\arg \\left(c_{3}\\right)$\n",
        "- $c_{8}=\\frac{c_{1}}{c_{2}}$\n",
        "- $c_{9}=c_{1} \\cdot c_{1}^{*}$\n",
        "\n",
        "Subsequently check your results with Matlab. Useful functions in this context are abs and angle. You do not need to add those checks to your report, or show the corresponding code.\n",
        "\n",
        "## Exercise 2 Fourier Transform (25\\%)\n",
        "\n",
        "The lecture notes show the following Fourier transform pair for the cosine wave (DSP_2.pdf, page 37):\n",
        "\n",
        "$$\n",
        "x(t)=\\hat{X} \\cos \\left(2 \\pi f_{0} t\\right) \\leftrightarrow X(f)=\\frac{\\hat{X}}{2} \\delta\\left(f-f_{0}\\right)+\\frac{\\hat{X}}{2} \\delta\\left(f+f_{0}\\right)\n",
        "$$\n",
        "\n",
        "Mathematically proof this relation. To do so, use Eulers formula to express the cosine in the time domain as a sum of complex exponentials and the Fourier transform of a complex exponential function from DSP_2.pdf, page 38.\n",
        "\n",
        "Add a diagram of $X(f)$ in the report (draw the real and the imaginary part of $X(f)$ in the same diagram).\n",
        "\n",
        "## Exercise 3 Time Shift and Phase (20\\%)\n",
        "\n",
        "Given are two sines according to the following formula\n",
        "\n",
        "with $f_{1}=1 \\mathrm{~Hz}$ and $f_{2}=3 \\mathrm{~Hz}$.\n",
        "\n",
        "$$\n",
        "x_{i}(t)=\\sin \\left(2 \\pi f_{i} t\\right), \\text { with } i \\in\\{1,2\\}\n",
        "$$\n",
        "\n",
        "All two sines are time delayed by $\\tau=0.1 \\mathrm{~s}$ to yield\n",
        "\n",
        "$$\n",
        "y_{i}(t)=\\sin \\left(2 \\pi f_{i}(t-0.1)\\right) \\text {. }\n",
        "$$\n",
        "\n",
        "This corresponds to a phase shift. Thus, the delayed sines may also be written as\n",
        "\n",
        "$$\n",
        "y_{i}(t)=\\sin \\left(2 \\pi f_{i} t+\\phi_{i}\\right) .\n",
        "$$\n",
        "\n",
        "a) Calculate the phase shifts $\\phi_{i}$ for each sine, and verify that this corresponds to the \"Shift Theorem\" of the Fourier Transform (DSP_2.pdf, page 41).\n",
        "\n",
        "b) For both sines in separated plots: Plot the original signal, the time delayed signal and the phase shifted signal. Since the latter two are identical, show this by plotting the first with a solid line and the overlaid one in a different colour with a dashed line. Plot each signal from 0 to $1 \\mathrm{~s}$. In Matlab use the following time-vector: $\\mathrm{t}=0: 0.001: 1$.\n",
        "\n",
        "## Exercise 4 Linearity and Time Invariance (35\\%)\n",
        "\n",
        "Examine the following systems (input $x(t)$ and output $y(t)$ ) for linearity and time invariance.\n",
        "\n",
        "Clearly show the mathematical derivations and state if the systems are linear and/or time-invariant.\n",
        "\n",
        "- $y(t)=(x(t))^{2}$\n",
        "- $y(t)=x(t) \\cdot \\sin \\left(\\Omega_{0} t\\right)$\n",
        "\n"
      ],
      "metadata": {
        "collapsed": false,
        "id": "871761ae13dad453"
      },
      "id": "871761ae13dad453"
    },
    {
      "cell_type": "code",
      "execution_count": null,
      "outputs": [],
      "source": [],
      "metadata": {
        "id": "e379eeed08ab542c"
      },
      "id": "e379eeed08ab542c"
    }
  ],
  "metadata": {
    "kernelspec": {
      "display_name": "Python 3",
      "language": "python",
      "name": "python3"
    },
    "language_info": {
      "codemirror_mode": {
        "name": "ipython",
        "version": 2
      },
      "file_extension": ".py",
      "mimetype": "text/x-python",
      "name": "python",
      "nbconvert_exporter": "python",
      "pygments_lexer": "ipython2",
      "version": "2.7.6"
    },
    "colab": {
      "provenance": [],
      "include_colab_link": true
    }
  },
  "nbformat": 4,
  "nbformat_minor": 5
}