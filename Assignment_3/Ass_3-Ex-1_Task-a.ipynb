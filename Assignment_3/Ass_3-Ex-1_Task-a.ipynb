{
 "cells": [
  {
   "metadata": {},
   "cell_type": "markdown",
   "source": [
    "# Introduction\n",
    "This Jupyter notebook aims to analyze and visualize the frequency spectrum of the analog signal given by:\n",
    "$$\n",
    "x(t) = \\sin(2\\pi f_1 t) + \\sin(2\\pi f_2 t)\n",
    "$$\n",
    "where \\(f_1 = 4 \\text{ kHz}\\) and \\(f_2 = 6 \\text{ kHz}\\). This task involves applying the Fourier Transform to determine the signal's frequency components.\n"
   ],
   "id": "30972b643c9043fc"
  },
  {
   "metadata": {},
   "cell_type": "markdown",
   "source": [
    "# Theoretical Background\n",
    "\n",
    "## Signal Sampling\n",
    "Sampling involves converting a continuous-time signal into a discrete-time signal, capturing the essence of the signal at discrete time intervals. This process is fundamental in digital signal processing for practical applications like audio and image processing.\n",
    "\n",
    "## Fourier Transform\n",
    "The Fourier Transform is a mathematical tool that transforms a continuous-time signal into its frequency components, revealing the signal's spectrum. It's essential for understanding how different frequencies contribute to the formation of a signal.\n",
    "\n",
    "## Delta Functions\n",
    "A delta function, denoted by \\( \\delta \\), is a mathematical representation used to model an infinitely small, infinitely high spike at a single point, which integrates to 1. In the context of the Fourier Transform, delta functions indicate the presence of specific frequencies within a signal.\n"
   ],
   "id": "65032bea406da697"
  },
  {
   "metadata": {},
   "cell_type": "markdown",
   "source": [
    "# Mathematical Derivation\n",
    "\n",
    "We start by expressing the sinusoidal components of \\(x(t)\\) using Euler's formula:\n",
    "$$\n",
    "\\sin(2\\pi ft) = \\frac{e^{i 2\\pi ft} - e^{-i 2\\pi ft}}{2i}\n",
    "$$\n",
    "Applying the Fourier Transform:\n",
    "$$\n",
    "\\mathcal{F}\\{\\sin(2\\pi f_1 t) + \\sin(2\\pi f_2 t)\\} = \\mathcal{F}\\{\\sin(2\\pi f_1 t)\\} + \\mathcal{F}\\{\\sin(2\\pi f_2 t)\\}\n",
    "$$\n",
    "which simplifies to:\n",
    "$$\n",
    "\\pi \\left( \\delta(f-f_1) - \\delta(f+f_1) \\right) / i + \\pi \\left( \\delta(f-f_2) - \\delta(f+f_2) \\right) / i\n",
    "$$\n",
    "This shows delta functions at \\( \\pm f_1 \\) and \\( \\pm f_2 \\), indicating energy concentration at these frequencies.\n"
   ],
   "id": "e3a43fa4a057780f"
  },
  {
   "metadata": {},
   "cell_type": "markdown",
   "source": [
    "# Python Code Implementation\n",
    "The following Python code block calculates and plots the frequency spectrum of \\(x(t)\\). The plot visualizes the locations of delta functions, representing the signal's frequency components.\n"
   ],
   "id": "1a5ac85e292b58c5"
  },
  {
   "metadata": {
    "ExecuteTime": {
     "end_time": "2024-05-11T11:02:26.369576Z",
     "start_time": "2024-05-11T11:02:25.940029Z"
    }
   },
   "cell_type": "code",
   "source": [
    "# Import necessary libraries\n",
    "import numpy as np\n",
    "import matplotlib.pyplot as plt\n",
    "import os\n",
    "\n",
    "# Ensure the directory for figures exists\n",
    "os.makedirs('fig', exist_ok=True)\n",
    "\n",
    "# Define signal frequencies and their properties\n",
    "f1 = 4000  # Frequency f1 in Hz\n",
    "f2 = 6000  # Frequency f2 in Hz\n",
    "\n",
    "# Frequency points where the delta functions occur\n",
    "frequencies = np.array([-f2, -f1, f1, f2])\n",
    "amplitudes = np.ones_like(frequencies)  # Delta functions' amplitudes\n",
    "\n",
    "# Create a stem plot to show the spectrum\n",
    "plt.figure(figsize=(10, 4))\n",
    "markerline, stemline, baseline = plt.stem(frequencies, amplitudes, linefmt='r-', markerfmt='ro', basefmt=\" \")\n",
    "plt.title('Spectrum of $x(t) = \\sin(2\\pi f_1 t) + \\sin(2\\pi f_2 t)$')\n",
    "plt.xlabel('Frequency (Hz)')\n",
    "plt.ylabel('Amplitude')\n",
    "plt.xlim(-10000, 10000)  # Extend the x-axis for better visibility\n",
    "plt.grid(True)\n",
    "\n",
    "# Annotate the delta functions for clarity\n",
    "for freq, amp in zip(frequencies, amplitudes):\n",
    "    plt.annotate(f'{freq} Hz', (freq, amp), textcoords=\"offset points\", xytext=(0,10), ha='center')\n",
    "\n",
    "# Save the figure\n",
    "plt.savefig('fig/ex1_a_spectrum.png')\n",
    "\n",
    "# Show the plot\n",
    "plt.show()\n"
   ],
   "id": "5318559ec0bc218f",
   "outputs": [
    {
     "data": {
      "text/plain": [
       "<Figure size 1000x400 with 1 Axes>"
      ],
      "image/png": "[encoded data removed]"
     },
     "metadata": {},
     "output_type": "display_data"
    }
   ],
   "execution_count": 1
  },
  {
   "metadata": {},
   "cell_type": "markdown",
   "source": [
    "# Conclusion\n",
    "\n",
    "This notebook provided a comprehensive analysis of the frequency spectrum of the given analog signal. By understanding and visualizing the signal's frequency components, we can appreciate the fundamental concepts of signal processing and their application in real-world scenarios. This analysis is crucial for designing systems that manipulate or analyze signals based on their frequency content.\n"
   ],
   "id": "658abd475cc2f516"
  },
  {
   "metadata": {},
   "cell_type": "markdown",
   "source": [
    "# Additional Resources\n",
    "For further reading and more in-depth discussions on the Fourier Transform and signal processing, consider the following resources:\n",
    "- [Digital Signal Processing by Proakis and Manolakis](https://www.amazon.com/Digital-Signal-Processing-4th-Proakis/dp/0131873741)\n",
    "- [Signals and Systems by Oppenheim and Willsky](https://www.amazon.com/Signals-Systems-2nd-Alan-Oppenheim/dp/0138147574)\n"
   ],
   "id": "641ca7447311acd8"
  },
  {
   "metadata": {},
   "cell_type": "markdown",
   "source": [
    "# Next Steps\n",
    "In the next task, we will explore the effects of sampling rates on signal reconstruction, analyzing how different rates affect the accuracy and integrity of the reconstructed signal.\n"
   ],
   "id": "f2c3ee0e2bd2b027"
  },
  {
   "metadata": {},
   "cell_type": "code",
   "outputs": [],
   "execution_count": null,
   "source": "",
   "id": "38ac5204096c3589"
  }
 ],
 "metadata": {
  "kernelspec": {
   "display_name": "Python 3",
   "language": "python",
   "name": "python3"
  },
  "language_info": {
   "codemirror_mode": {
    "name": "ipython",
    "version": 2
   },
   "file_extension": ".py",
   "mimetype": "text/x-python",
   "name": "python",
   "nbconvert_exporter": "python",
   "pygments_lexer": "ipython2",
   "version": "2.7.6"
  }
 },
 "nbformat": 4,
 "nbformat_minor": 5
}
