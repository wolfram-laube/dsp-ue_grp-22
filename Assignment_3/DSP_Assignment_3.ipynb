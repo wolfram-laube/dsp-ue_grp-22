{
 "cells": [
  {
   "metadata": {},
   "cell_type": "markdown",
   "source": [
    "Digital Signal Processing Tutorial\n",
    "\n",
    "$(382.047 / 64 / 66 / 67 / 68 / 69 / 70), 20245$\n",
    "\n",
    "Matthias Wagner, Bernhard Plaimer\n",
    "\n",
    "Assignment 3\n",
    "\n",
    "Sampling and Reconstruction\n",
    "\n",
    "Information about assignments and in particular on Moodle submission modalities can be found in DSP-Tutorial_2024S_Courselnfo.pdf.\n",
    "\n",
    "Submission deadline is Tue May 14 2024, 08:00.\n",
    "\n",
    "# Exercise 1 Sampling $1(40 \\%)$ \n",
    "\n",
    "The analogue signal\n",
    "\n",
    "$$\n",
    "x(t)=x_{1}(t)+x_{2}(t)=\\sin \\left(2 \\pi f_{1} t\\right)+\\sin \\left(2 \\pi f_{2} t\\right)\n",
    "$$\n",
    "\n",
    "with $f_{1}=4 \\mathrm{kHz}$ and $f_{2}=6 \\mathrm{kHz}$ is sampled with a sampling rate of $f_{s}=10 \\mathrm{kHz}$ to yield the discrete time signal $x[n]$.\n",
    "\n",
    "a) Draw the spectrum of $x(t)$.\n"
   ],
   "id": "1cc1eb206c26fc08"
  },
  {
   "cell_type": "code",
   "execution_count": 17,
   "outputs": [],
   "source": [
    "import numpy as np\n",
    "import matplotlib.pyplot as plt\n",
    "\n",
    "# Parameters\n",
    "fs_analog = 100e3  # 100 kHz\n",
    "f1 = 4e3  # 4 kHz\n",
    "f2 = 6e3  # 6 kHz\n",
    "t_end = 2e-3  # 2 ms\n",
    "\n",
    "# Time vector\n",
    "t = np.arange(0, t_end, 1/fs_analog)\n",
    "\n",
    "# Analog signal\n",
    "x_t = np.sin(2 * np.pi * f1 * t) + np.sin(2 * np.pi * f2 * t)\n",
    "\n",
    "# FFT to compute the spectrum\n",
    "n = len(t)\n",
    "freqs = np.fft.fftfreq(n, d=1/fs_analog)\n",
    "spectrum = np.fft.fft(x_t)\n",
    "\n",
    "# Plotting\n",
    "plt.figure()\n",
    "plt.plot(freqs[:n // 2] / 1e3, np.abs(spectrum[:n // 2]))\n",
    "plt.xlabel('Frequency (kHz)')\n",
    "plt.ylabel('Amplitude')\n",
    "plt.title('Spectrum of x(t)')\n",
    "plt.grid(True)\n",
    "plt.savefig('fig/ex1_a_plot.png')\n",
    "plt.show()\n"
   ],
   "metadata": {
    "collapsed": false
   },
   "id": "186c56d8e39bd71b"
  },
  {
   "cell_type": "markdown",
   "source": [
    "b) Due to sampling frequency shifted versions of the analogue spectrum are generated.\n",
    "\n",
    "Draw the spectra shifted by $-f_{s}, 0$ and $+f_{s}$ and then the spectrum for $x[n]$ as a result of spectral addition in one diagram. The diagram should show the spectra in the range from $-f_{s}$ to $+f_{s}$.\n",
    "\n",
    "Hint: Draw real and imaginary parts of the spectrum rather than magnitude and phase to ease addition.\n"
   ],
   "metadata": {
    "collapsed": false
   },
   "id": "91c534058377ed3c"
  },
  {
   "cell_type": "code",
   "execution_count": 18,
   "outputs": [],
   "source": [
    "import numpy as np\n",
    "import matplotlib.pyplot as plt\n",
    "\n",
    "# Parameters\n",
    "fs = 10e3  # 10 kHz\n",
    "f1 = 4e3  # 4 kHz\n",
    "f2 = 6e3  # 6 kHz\n",
    "frequencies = np.array([f1, f2])\n",
    "\n",
    "# Spectrum shifting\n",
    "def plot_shifted_spectrum(frequencies, fs):\n",
    "    # Shift frequencies for -fs, 0, and +fs\n",
    "    shifts = [-fs, 0, fs]\n",
    "    shifted_freqs = [frequencies + s for s in shifts]\n",
    "\n",
    "    plt.figure()\n",
    "    for s_freqs, s in zip(shifted_freqs, shifts):\n",
    "        for freq in s_freqs:\n",
    "            plt.axvline(x=freq / 1e3, linestyle='-', color='b')\n",
    "            plt.axvline(x=-freq / 1e3, linestyle='-', color='b')\n",
    "\n",
    "    plt.xlabel('Frequency (kHz)')\n",
    "    plt.ylabel('Amplitude')\n",
    "    plt.title('Shifted Spectrum')\n",
    "    plt.grid(True)\n",
    "    plt.xlim(-15, 15)  # From -15 kHz to 15 kHz\n",
    "    plt.savefig('fig/ex1_b_plot.png')\n",
    "    plt.show()\n",
    "\n",
    "# Plot the shifted spectrum\n",
    "plot_shifted_spectrum(frequencies, fs)\n"
   ],
   "metadata": {
    "collapsed": false
   },
   "id": "13b66e0cd1b61644"
  },
  {
   "cell_type": "markdown",
   "source": [
    "c) In Matlab plot the section 0 to $2 \\mathrm{~ms}$ of the signal $x(t)$ with a sampling rate of $100 \\mathrm{kHz}$ to emulate an analogue signal.\n",
    "\n",
    "Then also add the sampled signal $x[n]=x\\left(n T_{s}\\right)$ to the same plot. Show that $x[n]$ corresponds to the spectrum derived in b).\n"
   ],
   "metadata": {
    "collapsed": false
   },
   "id": "9a16b20f48cc3e68"
  },
  {
   "cell_type": "code",
   "execution_count": 19,
   "outputs": [],
   "source": [
    "import numpy as np\n",
    "import matplotlib.pyplot as plt\n",
    "\n",
    "# Parameters\n",
    "fs_analog = 100e3  # 100 kHz\n",
    "fs = 10e3  # 10 kHz\n",
    "f1 = 4e3  # 4 kHz\n",
    "f2 = 6e3  # 6 kHz\n",
    "t_end = 2e-3  # 2 ms\n",
    "\n",
    "# Time vectors\n",
    "t = np.arange(0, t_end, 1/fs_analog)\n",
    "n = np.arange(0, int(t_end * fs))\n",
    "\n",
    "# Analog signal\n",
    "x_t = np.sin(2 * np.pi * f1 * t) + np.sin(2 * np.pi * f2 * t)\n",
    "\n",
    "# Sampled signal\n",
    "x_n = np.sin(2 * np.pi * f1 * n / fs) + np.sin(2 * np.pi * f2 * n / fs)\n",
    "\n",
    "# Plotting\n",
    "plt.figure()\n",
    "plt.plot(t * 1e3, x_t, label='Analog signal x(t)')\n",
    "plt.stem(n * 1e3 / fs, x_n, linefmt='r', markerfmt='ro', basefmt=' ', label='Sampled signal x[n]', use_line_collection=True)\n",
    "plt.xlabel('Time (ms)')\n",
    "plt.ylabel('Amplitude')\n",
    "plt.title('Analog and Sampled Signals')\n",
    "plt.legend()\n",
    "plt.grid(True)\n",
    "plt.savefig('fig/ex1_c_plot.png')\n",
    "plt.show()"
   ],
   "metadata": {
    "collapsed": false
   },
   "id": "c74a2c5b5182509c"
  },
  {
   "cell_type": "markdown",
   "source": [
    "## Exercise 2 Sampling 2 (25\\%)\n",
    "\n",
    "The spectrum $X(f)$ of an analogue signal $x(t)$ is given with:\n",
    "![](https://cdn.mathpix.com/cropped/2024_05_02_cce32ce20ed068e88e62g-1.jpg?height=388&width=580&top_left_y=2076&top_left_x=656)\n",
    "\n",
    "a) Draw the real and imaginary parts of the spectrum $X(f)$."
   ],
   "metadata": {
    "collapsed": false
   },
   "id": "2140a5351e35a781"
  },
  {
   "cell_type": "markdown",
   "source": [
    "#### Problem Statement\n",
    "We need to visualize the real and imaginary components of the frequency spectrum $ X(f) $, given its magnitude $ |X(f)| $ and phase $ \\phi_x(f) $ across the frequency range. The spectrum has a specific magnitude and phase behavior defined as follows:\n",
    "\n",
    "#### Functions Involved\n",
    "1. **Magnitude $ |X(f)| $:**\n",
    "   $$\n",
    "   |X(f)| = \n",
    "   \\begin{cases} \n",
    "   A & \\text{if } -5 \\leq f < -1 \\text{ or } 1 < f \\leq 5 \\\\\n",
    "   A(1 + f) & \\text{if } -1 \\leq f < 0 \\\\\n",
    "   A(1 - f) & \\text{if } 0 \\leq f \\leq 1 \\\\\n",
    "   0 & \\text{otherwise}\n",
    "   \\end{cases}\n",
    "   $$\n",
    "\n",
    "2. **Phase $ \\phi_x(f) $:**\n",
    "   $$\n",
    "   \\phi_x(f) = \n",
    "   \\begin{cases} \n",
    "   \\frac{\\pi}{2} & \\text{if } -5 \\leq f < 0 \\\\\n",
    "   -\\frac{\\pi}{2} & \\text{if } 0 < f \\leq 5 \\\\\n",
    "   0 & \\text{otherwise}\n",
    "   \\end{cases}\n",
    "   $$\n",
    "\n",
    "#### Solution\n",
    "Using Euler's formula $ X(f) = |X(f)| \\cdot e^{i \\phi_x(f)} $, we derive the real and imaginary parts:\n",
    "- **Real Part:** $ \\text{Re}\\{X(f)\\} = |X(f)| \\cos(\\phi_x(f)) $\n",
    "- **Imaginary Part:** $ \\text{Im}\\{X(f)\\} = |X(f)| \\sin(\\phi_x(f)) $\n",
    "\n",
    "The plot shows the zero real component and the varying imaginary component, reflecting the sinusoidal behavior due to the phase shifts:"
   ],
   "metadata": {
    "collapsed": false
   },
   "id": "db8b1661ff9af46b"
  },
  {
   "cell_type": "code",
   "execution_count": 20,
   "outputs": [],
   "source": [
    "import numpy as np\n",
    "import matplotlib.pyplot as plt\n",
    "\n",
    "# Define the frequency range and constants\n",
    "f = np.linspace(-5, 5, 1000)  # Frequency range from -5 kHz to 5 kHz\n",
    "A = 1  # Amplitude\n",
    "\n",
    "# Define the magnitude and phase of the spectrum\n",
    "magnitude = np.zeros_like(f)\n",
    "magnitude[(f >= -5) & (f < -1)] = A\n",
    "magnitude[(f > 1) & (f <= 5)] = A\n",
    "magnitude[(f >= -1) & (f < 0)] = A * (1 + f[(f >= -1) & (f < 0)])\n",
    "magnitude[(f >= 0) & (f <= 1)] = A * (1 - f[(f >= 0) & (f <= 1)])\n",
    "\n",
    "phase = np.where(f < 0, np.pi/2, -np.pi/2)\n",
    "phase = np.where((f < -5) | (f > 5), 0, phase)  # Phase outside range is 0\n",
    "\n",
    "# Calculate the real and imaginary parts\n",
    "real_part = magnitude * np.cos(phase)\n",
    "imaginary_part = magnitude * np.sin(phase)\n",
    "\n",
    "# Plot the real and imaginary parts\n",
    "plt.figure(figsize=(10, 5))\n",
    "plt.plot(f, real_part, label='Real Part')\n",
    "plt.plot(f, imaginary_part, label='Imaginary Part')\n",
    "plt.title('Real and Imaginary Parts of X(f)')\n",
    "plt.xlabel('Frequency (kHz)')\n",
    "plt.ylabel('Amplitude')\n",
    "plt.legend()\n",
    "plt.grid(True)\n",
    "plt.savefig('fig/ex2_a_plot.png')\n",
    "plt.show()"
   ],
   "metadata": {
    "collapsed": false
   },
   "id": "3c5e54789862838"
  },
  {
   "cell_type": "markdown",
   "source": [
    "b) $x(t)$ is sampled with $8 \\mathrm{kHz}$ to yield the discrete time signal $x[n]$. Draw the spectrum of $x[n]$ from $-f_{s}$ to $f_{s}$ and indicate the baseband.\n"
   ],
   "metadata": {
    "collapsed": false
   },
   "id": "1a8f657341b4ebed"
  },
  {
   "cell_type": "code",
   "execution_count": 21,
   "outputs": [],
   "source": [
    "import numpy as np\n",
    "import matplotlib.pyplot as plt\n",
    "from ipywidgets import interact, FloatSlider\n",
    "\n",
    "# Define the frequency range\n",
    "f = np.linspace(-5, 5, 1000)\n",
    "\n",
    "def plot_spectrum(A):\n",
    "    # Define the magnitude and phase of the spectrum\n",
    "    magnitude = np.zeros_like(f)\n",
    "    magnitude[(f >= -5) & (f < -1)] = A\n",
    "    magnitude[(f > 1) & (f <= 5)] = A\n",
    "    magnitude[(f >= -1) & (f < 0)] = A * (1 + f[(f >= -1) & (f < 0)])\n",
    "    magnitude[(f >= 0) & (f <= 1)] = A * (1 - f[(f >= 0) & (f <= 1)])\n",
    "\n",
    "    phase = np.where(f < 0, np.pi/2, -np.pi/2)\n",
    "    phase = np.where((f < -5) | (f > 5), 0, phase)  # Phase outside range is 0\n",
    "\n",
    "    # Calculate the real and imaginary parts\n",
    "    real_part = magnitude * np.cos(phase)\n",
    "    imaginary_part = magnitude * np.sin(phase)\n",
    "\n",
    "    # Plot the real and imaginary parts\n",
    "    plt.figure(figsize=(10, 5))\n",
    "    plt.plot(f, real_part, label='Real Part')\n",
    "    plt.plot(f, imaginary_part, label='Imaginary Part')\n",
    "    plt.title('Real and Imaginary Parts of X(f) with A={}'.format(A))\n",
    "    plt.xlabel('Frequency (kHz)')\n",
    "    plt.ylabel('Amplitude')\n",
    "    plt.legend()\n",
    "    plt.grid(True)\n",
    "    plt.show()\n",
    "\n",
    "# Create an interactive widget for amplitude A\n",
    "interact(plot_spectrum, A=FloatSlider(value=1, min=0, max=2, step=0.1, description='Amplitude A:'))\n"
   ],
   "metadata": {
    "collapsed": false
   },
   "id": "57b070241ffd5c66"
  },
  {
   "cell_type": "markdown",
   "source": [
    "#### Problem Statement\n",
    "We will analyze and visualize the spectrum of the discrete-time signal $ x[n] $, which is obtained by sampling the continuous-time signal $ x(t) $ at 8 kHz. Highlight the baseband and indicate potential aliasing effects.\n",
    "\n",
    "#### Functions Involved\n",
    "- **Sampling Frequency $ f_s $:** 8 kHz\n",
    "- **Baseband:** $[-f_s/2, f_s/2]$ or $[-4 \\text{ kHz}, 4 \\text{ kHz}]$\n",
    "\n",
    "#### Solution\n",
    "The repeated spectrum due to sampling is visualized, showing how the spectrum repeats every 8 kHz and illustrating the aliasing effects within the highlighted baseband:"
   ],
   "metadata": {
    "collapsed": false
   },
   "id": "b21830bd9782b594"
  },
  {
   "cell_type": "code",
   "execution_count": 22,
   "outputs": [],
   "source": [
    "import numpy as np\n",
    "import matplotlib.pyplot as plt\n",
    "\n",
    "# Use previously defined 'magnitude' variable from Task (a)\n",
    "fs = 8  # Sampling frequency 8 kHz\n",
    "extended_f = np.linspace(-fs * 3, fs * 3, len(magnitude) * 3)\n",
    "repeated_spectrum = np.tile(magnitude, 3)  # Repeat the spectrum\n",
    "\n",
    "# Plot the spectrum of x[n] with baseband highlighted\n",
    "plt.figure(figsize=(10, 5))\n",
    "plt.plot(extended_f, repeated_spectrum)\n",
    "plt.title('Spectrum of x[n] sampled at 8 kHz')\n",
    "plt.xlabel('Frequency (kHz)')\n",
    "plt.axvspan(-4, 4, color='yellow', alpha=0.3, label='Baseband (-fs/2 to fs/2)')\n",
    "plt.legend()\n",
    "plt.grid(True)\n",
    "plt.savefig('fig/ex2_b_plot.png')\n",
    "plt.show()\n"
   ],
   "metadata": {
    "collapsed": false
   },
   "id": "b817b9158b7e12c2"
  },
  {
   "cell_type": "markdown",
   "source": [
    "## Exercise 3 Reconstruction (35\\%)\n",
    "\n",
    "The discrete time signal $x[n]=\\sqrt{2} \\cdot \\sin \\left(2 \\pi \\cdot \\frac{1}{8} \\cdot n\\right)$ is converted to the analogue signal $x(t)$ with an DAC which uses a clock frequency of $8 \\mathrm{kHz}$ and which converts a numerical value of 1 to $1 \\mathrm{~V}$.\n",
    "\n",
    "a) Up to $20 \\mathrm{kHz}$, list all positive frequencies which occur (in general) in $x(t)$.\n"
   ],
   "metadata": {
    "collapsed": false
   },
   "id": "acb6110f3ff2de6"
  },
  {
   "cell_type": "markdown",
   "source": [
    "#### Problem Statement\n",
    "Determine all positive frequencies which occur in the analog signal $ x(t) $, derived from the discrete-time signal $ x[n] = \\sqrt{2} \\cdot \\sin \\left(2 \\pi \\cdot \\frac{1}{8} \\cdot n\\right) $ using a DAC with a clock frequency of 8 kHz. Consider the frequency range up to 20 kHz.\n",
    "\n",
    "#### Analysis\n",
    "1. **Discrete-Time Signal Frequency**:\n",
    "   - The discrete-time signal given is $ x[n] = \\sqrt{2} \\cdot \\sin \\left(2 \\pi \\cdot \\frac{1}{8} \\cdot n\\right) $.\n",
    "   - Here, $ \\frac{1}{8} $ represents the normalized frequency with respect to the sampling frequency $ f_s $.\n",
    "\n",
    "2. **Calculation of the Signal's Fundamental Frequency**:\n",
    "   - Given $ f_s = 8000 $ Hz (8 kHz), the frequency of the sinusoidal component can be calculated as follows:\n",
    "     $$\n",
    "     f = f_s \\cdot \\frac{1}{8} = 8000 \\cdot \\frac{1}{8} = 1000 \\text{ Hz}\n",
    "     $$\n",
    "   - Therefore, the fundamental frequency of the sinusoid is 1000 Hz.\n",
    "\n",
    "3. **Frequency Content in $ x(t) $**:\n",
    "   - Since $ x[n] $ is being sampled at 8 kHz to convert to $ x(t) $, and considering the frequency of $ x[n] $ is well within the Nyquist limit, the primary frequency in the analog signal $ x(t) $ is the same as the fundamental frequency of $ x[n] $.\n",
    "   - The DAC converts the discrete-time signal into an analog signal, maintaining the fundamental frequency but potentially introducing higher harmonics due to the conversion process, though these are not mentioned in the problem and are generally unwanted.\n",
    "\n",
    "4. **Other Possible Frequencies**:\n",
    "   - Theoretically, if non-linearities or higher order effects were present (not specified here), additional frequencies could arise.\n",
    "   - Due to the sampling and reconstruction process, aliasing should not occur if all system components operate ideally and the signal is bandlimited properly by an anti-aliasing filter before sampling.\n",
    "\n",
    "#### Conclusion\n",
    "For the given signal and DAC specifications:\n",
    "- The positive frequency that occurs in $ x(t) $ up to 20 kHz is primarily the fundamental frequency of 1000 Hz. Assuming no non-linear distortions or additional frequency components are introduced by the DAC or other system components, no other frequencies are expected up to 20 kHz."
   ],
   "metadata": {
    "collapsed": false
   },
   "id": "5cdb795e2821171a"
  },
  {
   "cell_type": "markdown",
   "source": [
    "b) The DAC implements a zero-order hold reconstruction.\n",
    "\n",
    "1. What is the power (in $\\mathrm{dB}$ ) of the baseband sinewave (the sine at the lowest frequency)?\n",
    "2. What is the power (in $\\mathrm{dB}$ ) of the first out-of-band sinewave (the sine with the second lowest frequency)?\n"
   ],
   "metadata": {
    "collapsed": false
   },
   "id": "6374deaa7bf1c4cd"
  },
  {
   "cell_type": "markdown",
   "source": [
    "#### Problem Statement\n",
    "Determine the power in decibels (dB) of the baseband sinewave and the first out-of-band sinewave resulting from a zero-order hold (ZOH) DAC conversion of the discrete-time signal $x[n] = \\sqrt{2} \\cdot \\sin\\left(2\\pi \\frac{1}{8}n\\right)$. The DAC operates at a sampling frequency of 8 kHz.\n",
    "\n",
    "#### Analysis\n",
    "\n",
    "1. **Zero-Order Hold Impact on Spectrum**:\n",
    "   - A zero-order hold effectively holds each sample value constant over the sample period until the next sample is taken. This introduces a sinc-shaped distortion in the frequency domain, characterized by the sinc function's frequency response.\n",
    "   - The sinc function causes attenuation and ripple in the frequency spectrum, modifying the original sinewave's amplitude.\n",
    "\n",
    "2. **Baseband Sinewave Analysis**:\n",
    "   - The baseband frequency, as calculated earlier, is 1000 Hz.\n",
    "   - The power of the sinewave $P$ is given by $P = A^2/2$, where $A$ is the amplitude of the sinewave. For $x[n]$, $A = \\sqrt{2}$, so $P = 1$.\n",
    "\n",
    "3. **Power in Decibels (dB) for Baseband Sinewave**:\n",
    "   - Power in decibels is calculated using $P_{dB} = 10 \\log_{10}(P)$.\n",
    "   - Thus, the power in decibels of the baseband sinewave is:\n",
    "     $$\n",
    "     P_{dB} = 10 \\log_{10}(1) = 0 \\text{ dB}\n",
    "     $$\n",
    "   - This result assumes no gain or loss in the system, which is idealized given the zero-order hold effect, which actually introduces some attenuation due to the sinc function's nature.\n",
    "\n",
    "4. **First Out-of-Band Sinewave Analysis**:\n",
    "   - The first out-of-band frequency component occurs due to the zero-order hold and would typically be at the first zero of the sinc function, which is at the sampling frequency minus the base frequency (8000 Hz - 1000 Hz = 7000 Hz).\n",
    "   - Due to the nature of the sinc function, the power at the first zero is theoretically zero, but just before this point, there is significant attenuation.\n",
    "\n",
    "5. **Power in Decibels (dB) for the First Out-of-Band Sinewave**:\n",
    "   - Estimating the power just before the zero crossing, considering sinc function's typical roll-off, might give a very low power level. A rough estimate using the sinc attenuation might suggest around -13 dB or lower at the first sidelobe peak near the zero crossing.\n",
    "\n",
    "#### Conclusion\n",
    "- The power of the baseband sinewave, considering an ideal DAC without accounting for practical attenuation due to ZOH, is 0 dB.\n",
    "- The power of the first out-of-band sinewave would be significantly lower, potentially around -13 dB or more, depending on the exact behavior of the sinc function's first sidelobe.\n"
   ],
   "metadata": {
    "collapsed": false
   },
   "id": "5eda73921afda68e"
  },
  {
   "cell_type": "markdown",
   "source": [
    "c) Qualitatively draw the spectrum of $x(t)$ up to $20 \\mathrm{kHz}$. Delta pulses should be drawn with an arrow, the height of the arrow should indicate the weight of the delta-pulse.\n",
    "\n",
    "Hints:\n",
    "\n",
    "- The power of a sinewave with amplitude $A$ is $P=\\frac{A^{2}}{2}$ (also see Parseval's theorem for periodic signals DSP_02/27).\n",
    "- The impulse response of a 0 -order reconstruction filter is a rectangular pulse, its frequency response is thus given in $D S P_{-} 02 / 43$.\n",
    "- When calculating the attenuation for the respective frequencies it should be noted that e.g. Matlab uses the normalized sinc function.\n",
    "\n"
   ],
   "metadata": {
    "collapsed": false
   },
   "id": "61e7533c5f0c174"
  },
  {
   "cell_type": "markdown",
   "source": [
    "#### Problem Statement\n",
    "Qualitatively draw the spectrum of \\( x(t) \\) up to 20 kHz, considering the effect of zero-order hold (ZOH) reconstruction. Delta pulses should be drawn with an arrow, where the height of the arrow indicates the weight of the delta-pulse.\n",
    "\n",
    "#### Background and Analysis\n",
    "\n",
    "1. **Zero-Order Hold (ZOH) Characteristics**:\n",
    "   - A zero-order hold DAC holds each discrete signal value constant over the sample interval, essentially creating a step function between samples. The impulse response of this operation is a rectangular pulse.\n",
    "   - The Fourier transform of a rectangular pulse is a sinc function, resulting in a sinc-shaped spectrum that modifies the frequency components of the original signal.\n",
    "\n",
    "2. **Spectral Components**:\n",
    "   - **Base Frequency**: The original discrete-time signal \\( x[n] \\) has a fundamental frequency of 1000 Hz, resulting in a corresponding delta pulse in the spectrum.\n",
    "   - **Power Calculation**: The power of a sinewave with amplitude \\( A \\) is given by \\( P = \\frac{A^2}{2} \\). For \\( x[n] \\), \\( A = \\sqrt{2} \\), so \\( P = 1 \\) watt, which will be represented by the height of the delta pulse at 1000 Hz.\n",
    "\n",
    "3. **Sinc Function Influence**:\n",
    "   - The frequency response of the ZOH is given by a sinc function, which affects the amplitude of the spectral components. This influence results in a primary lobe around the baseband frequency and side lobes that attenuate in amplitude as they move away from the center frequency.\n",
    "   - The first null of the sinc function appears at the sampling frequency \\( f_s = 8000 \\) Hz, which serves as a guideline for the drawing.\n",
    "\n",
    "#### Steps for Drawing the Spectrum:\n",
    "- **Delta Pulse at 1000 Hz**: Mark a delta pulse at 1000 Hz with a height representing the power level of 1 watt.\n",
    "- **Overlay Sinc Function**: Overlay a sinc function shape across the spectrum. The main lobe should center around 1000 Hz, and side lobes should decrease in amplitude as they extend outwards.\n",
    "- **Consider Sinc Attenuation**: Show how the sinc function modifies the spectrum, particularly how it attenuates frequencies around 8000 Hz and 16000 Hz just before reaching the nulls.\n",
    "\n",
    "#### Conclusion\n",
    "The spectrum of \\( x(t) \\) will exhibit characteristics dominated by the sinc function due to the ZOH effect, with a notable delta pulse at the fundamental frequency of 1000 Hz. The qualitative drawing will reflect the sinc function's impact, emphasizing the primary and side lobes up to 20 kHz.\n"
   ],
   "metadata": {
    "collapsed": false
   },
   "id": "77cd568fe93e404b"
  },
  {
   "cell_type": "code",
   "execution_count": null,
   "outputs": [],
   "source": [
    "import numpy as np\n",
    "import matplotlib.pyplot as plt\n",
    "\n",
    "# Define the frequency range and parameters\n",
    "fs = 8000  # Sampling frequency\n",
    "f_base = 1000  # Base frequency of the sinewave\n",
    "f_max = 20000  # Maximum frequency for the plot\n",
    "A = np.sqrt(2)  # Amplitude of the sinewave\n",
    "\n",
    "# Calculate power of the baseband sinewave\n",
    "P = A**2 / 2\n",
    "\n",
    "# Generate a frequency array, ensure to include the base frequency for proper sinc calculation\n",
    "frequencies = np.linspace(0, f_max, 4000)\n",
    "sinc_function = np.sinc(2 * (frequencies - f_base) / fs)\n",
    "\n",
    "# Normalize sinc to have its maximum at the base frequency power level\n",
    "sinc_function = sinc_function * P / np.max(np.abs(sinc_function))\n",
    "\n",
    "# Create the plot\n",
    "plt.figure(figsize=(12, 6))\n",
    "\n",
    "# Plotting the delta pulse using 'stem'\n",
    "plt.stem([f_base], [P], 'C0-', 'C0o', basefmt=\" \", use_line_collection=True, label='Delta Pulse at 1000 Hz')\n",
    "\n",
    "# Plotting the sinc function\n",
    "plt.plot(frequencies, sinc_function, 'C1', label='Sinc Function (ZOH Impact)')\n",
    "\n",
    "# Adding labels and grid for better visualization\n",
    "plt.title('Qualitative Spectrum of $x(t)$ up to 20 kHz')\n",
    "plt.xlabel('Frequency (Hz)')\n",
    "plt.ylabel('Amplitude')\n",
    "plt.legend()\n",
    "plt.grid(True)\n",
    "plt.ylim(bottom=0)  # Adjust this as needed\n",
    "plt.xlim(0, f_max)\n",
    "\n",
    "# Show the plot\n",
    "plt.savefig('fig/ex3_c_plot.png')\n",
    "plt.show()\n"
   ],
   "metadata": {
    "collapsed": false,
    "is_executing": true
   },
   "id": "ccf6e54ddc3134e1"
  },
  {
   "cell_type": "markdown",
   "source": [
    "## Exercise 4 Signal Processing Onramp - BONUS (15\\%)\n",
    "\n",
    "This task is optional (additional 15\\%) and should help you to learn the basics of practical signal processing techniques in MATLAB. You will find out how to use spectral analysis and filtering for preprocessing, analyzing and extracting information from signal data.\n",
    "\n",
    "For that you need to carry out the full 'Signal Processing Onramp course' [1]. For getting the bonus points you need to add the certificate to your protocol (you can download a pdf - see 'Share Certificate and Progress'). Also, you need to share your progress with my account (matthias.wagner@jku.at), what can be done in the same tab.\n",
    "\n",
    "[1] https://matlabacademy.mathworks.com/details/signal-processing-onramp/signalprocessing\n",
    "\n"
   ],
   "metadata": {
    "collapsed": false
   },
   "id": "5c1f6f1d679df22c"
  }
 ],
 "metadata": {
  "kernelspec": {
   "display_name": "Python 3",
   "language": "python",
   "name": "python3"
  },
  "language_info": {
   "codemirror_mode": {
    "name": "ipython",
    "version": 2
   },
   "file_extension": ".py",
   "mimetype": "text/x-python",
   "name": "python",
   "nbconvert_exporter": "python",
   "pygments_lexer": "ipython2",
   "version": "2.7.6"
  }
 },
 "nbformat": 4,
 "nbformat_minor": 5
}
