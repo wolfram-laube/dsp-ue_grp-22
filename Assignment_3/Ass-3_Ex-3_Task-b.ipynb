{
 "cells": [
  {
   "cell_type": "markdown",
   "source": [
    "# Introduction\n",
    "In Exercise 3, Task (b), we evaluate the effects of zero-order hold (ZOH) reconstruction on the power levels of specific frequency components in an analog signal derived from a discrete-time signal via a digital-to-analog converter (DAC). We focus on calculating the power in dB for the baseband sinewave and the first out-of-band sinewave.\n"
   ],
   "metadata": {
    "collapsed": false
   },
   "id": "7a826517534251ef"
  },
  {
   "cell_type": "markdown",
   "source": [
    "# Theoretical Background\n",
    "\n",
    "## Zero-Order Hold (ZOH) Effects\n",
    "The ZOH DAC maintains each sampled value constant until the next sample point. This introduces a sinc function effect in the frequency domain, which impacts the amplitude of various frequency components.\n",
    "\n",
    "## Frequency Response of ZOH\n",
    "The frequency response of a ZOH DAC can be modeled by the sinc function:\n",
    "$$\n",
    "H(f) = \\frac{\\sin(\\pi f T)}{\\pi f T}\n",
    "$$\n",
    "where \\(T\\) is the sampling period. This response affects the spectral components by attenuating them, particularly at higher frequencies.\n"
   ],
   "metadata": {
    "collapsed": false
   },
   "id": "9c38d08ab0161e9e"
  },
  {
   "cell_type": "markdown",
   "source": [
    "# Python Code for Power Calculation\n",
    "Below is the Python code to compute and display the power in dB for the baseband sinewave and the first out-of-band sinewave as influenced by the ZOH reconstruction process.\n"
   ],
   "metadata": {
    "collapsed": false
   },
   "id": "b571e0786ff17c96"
  },
  {
   "cell_type": "code",
   "execution_count": 2,
   "id": "initial_id",
   "metadata": {
    "collapsed": true,
    "ExecuteTime": {
     "end_time": "2024-05-11T17:25:28.995639Z",
     "start_time": "2024-05-11T17:25:28.980438Z"
    }
   },
   "outputs": [
    {
     "name": "stdout",
     "output_type": "stream",
     "text": [
      "Power of the baseband sinewave (1 kHz): -0.22 dB\n",
      "Power of the first out-of-band sinewave (7 kHz): -17.13 dB\n"
     ]
    }
   ],
   "source": [
    "import numpy as np\n",
    "\n",
    "# Define constants\n",
    "f0 = 1000  # Base frequency in Hz (baseband sinewave)\n",
    "fout = 7000  # First out-of-band frequency in Hz\n",
    "fs = 8000  # Sampling frequency in Hz\n",
    "T = 1 / fs  # Sampling period in seconds\n",
    "\n",
    "# Function to calculate magnitude of the frequency response\n",
    "def calc_magnitude(f):\n",
    "    return np.abs(np.sinc(f * T))\n",
    "\n",
    "# Function to calculate power in dB\n",
    "def power_in_dB(f):\n",
    "    magnitude = calc_magnitude(f)\n",
    "    power_db = 20 * np.log10(magnitude)\n",
    "    return power_db\n",
    "\n",
    "# Calculate power in dB for the specified frequencies\n",
    "power_baseband_db = power_in_dB(f0)\n",
    "power_outofband_db = power_in_dB(fout)\n",
    "\n",
    "# Display the results\n",
    "print(f\"Power of the baseband sinewave (1 kHz): {power_baseband_db:.2f} dB\")\n",
    "print(f\"Power of the first out-of-band sinewave (7 kHz): {power_outofband_db:.2f} dB\")\n"
   ]
  },
  {
   "cell_type": "markdown",
   "source": [
    "# Conclusion\n",
    "The calculations show how the ZOH reconstruction method impacts the power of frequency components in the converted analog signal. Understanding these effects is crucial for signal processing applications to ensure fidelity and manage potential signal distortions due to DAC characteristics.\n"
   ],
   "metadata": {
    "collapsed": false
   },
   "id": "ed0b5ee1362ab717"
  }
 ],
 "metadata": {
  "kernelspec": {
   "display_name": "Python 3",
   "language": "python",
   "name": "python3"
  },
  "language_info": {
   "codemirror_mode": {
    "name": "ipython",
    "version": 2
   },
   "file_extension": ".py",
   "mimetype": "text/x-python",
   "name": "python",
   "nbconvert_exporter": "python",
   "pygments_lexer": "ipython2",
   "version": "2.7.6"
  }
 },
 "nbformat": 4,
 "nbformat_minor": 5
}
