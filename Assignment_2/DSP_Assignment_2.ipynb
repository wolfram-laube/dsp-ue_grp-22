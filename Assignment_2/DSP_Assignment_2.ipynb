{
 "cells": [
  {
   "cell_type": "markdown",
   "source": [
    "# Digital Signal Processing Tutorial (382.047/64/66/67/68/69/70), 2024S \n",
    "\n",
    "![](https://cdn.mathpix.com/cropped/2024_04_16_05aa650c2cf9d2378737g-1.jpg?height=111&width=285&top_left_y=316&top_left_x=220)\n",
    "\n",
    "JOHANNES KEPLER UNIVERSITY LINZ\n",
    "\n",
    "Matthias Wagner, Bernhard Plaimer\n",
    "\n",
    "Assignment 2\n",
    "\n",
    "Discrete Time Signals, Convolution, DTFT\n",
    "\n",
    "Information about assignments and in particular on Moodle submission modalities can be found in DSP-Tutorial_2024S_Courselnfo.pdf.\n",
    "\n",
    "Submission deadline is Tuesday, April 30th, 2024, 08:00.\n",
    "\n",
    "Exercise 1 Discrete Time Signals (30\\%)\n",
    "\n",
    "(a) The following discrete time signals should be plotted in Matlab as indicated in Fig.1.\n",
    "\n",
    "$$\n",
    "\\begin{array}{ll}\n",
    "x_{1}[n]=-4 \\delta[n+3]+4 \\delta[n]-\\delta[n-3]+2 \\delta[n-7] & \\text { for }-5 \\leq n \\leq 10 \\\\\n",
    "x_{2}[n]=e^{-0.31 n} & \\text { for }-5 \\leq n \\leq 10 \\\\\n",
    "x_{3}[n]=3 \\sin \\left(2 \\pi \\frac{3.5}{64} n\\right) & \\text { for } 0 \\leq n \\leq 256 \\\\\n",
    "x_{4}[n]=-\\cos \\left(\\frac{9}{64} n\\right) & \\text { for } 0 \\leq n \\leq 256\n",
    "\\end{array}\n",
    "$$\n",
    "\n",
    "- To indicate the discrete time nature of the signals the stem command should be used, unless the signal length becomes too long in which case the plot command should be used instead. You should choose the ideal way to plot the signals.\n",
    "- Extend the Matlab script dsp_A2_1.m. Useful commands are figure, stem, plot, subplot, xlabel, ylabel, title, legend, hold on, grid on, pi.\n",
    "- You can use the provided function impseq.\n",
    "\n",
    "![](https://cdn.mathpix.com/cropped/2024_04_16_05aa650c2cf9d2378737g-1.jpg?height=300&width=1063&top_left_y=1740&top_left_x=585)\n",
    "\n",
    "Fig. 1: Required arrangement of plots.\n",
    "\n",
    "(b) What is the normalized angular frequency $\\Omega$ for $x_{3}[n]$ and $x_{4}[n]$.\n",
    "\n",
    "(c) Are the signals $x_{3}[n]$ and $x_{4}[n]$ periodic? If yes, what is their fundamental period?\n",
    "\n",
    "(d) Write the Matlab function custom_power which calculates the mean power of a discrete time periodic signal according to $P=\\frac{1}{N} \\sum_{n=0}^{N-1}|x[n]|^{2}$.\n",
    "\n",
    "Pass exactly one signal period to this function to calculate the powers of all periodic (!) signals in (a).\n",
    "\n",
    "(e) Now assume that all signals in (a) are zero outside the plot range (e.g. $x_{2}[11]=0$ ).\n",
    "\n",
    "Write a function energy which calculates the signal energy according to $W=\\sum_{n=-\\infty}^{\\infty}|x[n]|^{2}$.\n",
    "\n",
    "Determine the energies for all these time-limited signals $x_{1}[n]$ to $x_{4}[n]$.\n",
    "\n",
    "(f) Collect all the signal powers of (d) and signal energies of (e) in a single table in your protocol.\n",
    "\n",
    "## Exercise 2 Convolution-1 (20\\%)\n",
    "\n",
    "The signal $x[n]=(3,-1,2,0,1)$ at sample times $n=(0,1,2,3,4)$ is the input to an LTI system with impulse response $h[n]=(2,3,4,1)$ at sample times $n=(0,1,2,3)$.\n",
    "\n",
    "(a) How long is the output signal $y[n]$ ?\n",
    "\n",
    "(b) Manually calculate the output signal $y[n]$.\n"
   ],
   "metadata": {
    "collapsed": false
   },
   "id": "c8cd2ab2a9be479"
  },
  {
   "cell_type": "markdown",
   "source": [
    "Given:\n",
    "- $x[n] = (3, -1, 2, 0, 1)$ with length $N = 5$\n",
    "- $h[n] = (2, 3, 4, 1)$ with length $M = 4$\n",
    "\n",
    "(a) Length of the Output Signal $y[n]$\n",
    "To find the length of $y[n]$:\n",
    "$$\n",
    "N + M - 1 = 5 + 4 - 1 = 8\n",
    "$$\n",
    "So, the output signal $y[n]$ will be 8 samples long.\n",
    "\n",
    "(b) Manually Calculate the Output Signal $y[n]$\n",
    "To manually calculate the output signal $y[n]$, we need to perform the convolution of $x[n]$ and $h[n]$. This can be expressed as:\n",
    "$$\n",
    "y[n] = (x * h)[n] = \\sum_{k=-\\infty}^\\infty x[k] \\cdot h[n-k]\n",
    "$$\n",
    "However, since $x$ and $h$ are both finite sequences, the summation is only over the overlapping indices:\n",
    "$$\n",
    "y[n] = \\sum_{k=\\max(0, n+1-M)}^{\\min(n, N-1)} x[k] \\cdot h[n-k]\n",
    "$$\n",
    "\n",
    "We'll compute this manually:\n",
    "\n",
    "1. $y[0] = x[0]h[0]$\n",
    "2. $y[1] = x[0]h[1] + x[1]h[0]$\n",
    "3. $y[2] = x[0]h[2] + x[1]h[1] + x[2]h[0]$\n",
    "4. $y[3] = x[0]h[3] + x[1]h[2] + x[2]h[1] + x[3]h[0]$\n",
    "5. $y[4] = x[1]h[3] + x[2]h[2] + x[3]h[1] + x[4]h[0]$\n",
    "6. $y[5] = x[2]h[3] + x[3]h[2] + x[4]h[1]$\n",
    "7. $y[6] = x[3]h[3] + x[4]h[2]$\n",
    "8. $y[7] = x[4]h[3]$\n",
    "\n",
    "The output signal $y[n]$ resulting from the convolution of $x[n]$ and $h[n]$ is given by:\n",
    "$$\n",
    "y[n] = (6, 7, 13, 5, 9, 5, 4, 1)\n",
    "$$\n",
    "\n",
    "This calculation corresponds to the values derived from manually applying the convolution sum for each output sample. Each element in $y[n]$ is computed based on the overlapping products of $x[n]$ and $h[n-k]$ for each shift $k$.\n"
   ],
   "metadata": {
    "collapsed": false
   },
   "id": "424cda21aa965345"
  },
  {
   "cell_type": "markdown",
   "source": [
    "## Exercise 3 Convolution-2 (25\\%)\n",
    "\n",
    "The impulse response of an LTI system is $h[n]=(0.25,0.5,0.25)$ at sample indices $n=(0,1,2)$.\n",
    "\n",
    "The input signal is $x[n]=\\cos \\left(\\frac{2 \\pi}{20} n\\right)$ for $0 \\leq n<50$.\n",
    "\n",
    "(a) What is the length $L y$ of the output signal $y[n]$ ?\n",
    "\n",
    "(b) Implement the convolution operation $y[n]=\\sum_{i=0}^{L_{h}-1} h[i] x[n-i]$ in Matlab as 2 nested forloops to calculate all $L_{y}$ output samples of $y[n]$. The outer for-loop increments the output index $n$, the inner for-loop increments the memory index $i$.\n",
    "\n",
    "(c) Plot the signal $y[n]$.\n",
    "\n",
    "(d) Verify the correct implementation of the convolution using the Matlab function conv. Plot both signals on top of each other, the lower one in solid line style the top in dashed style and provide a legend to your plot.\n"
   ],
   "metadata": {
    "collapsed": false
   },
   "id": "edc27c358f2ef7c9"
  },
  {
   "metadata": {},
   "cell_type": "markdown",
   "source": [
    "## Exercise 4 Discrete Time Fourier Transform (25\\%)\n",
    "\n",
    "The time discrete sequence $x[n]=(0.8)^{|n|}(u[n+10]-u[n-11])$ should be transformed to the frequency domain by using the discrete time Fourier transform (DTFT). As $x[n]$ has finite support (that means it is a sequence of finite length), $X\\left(e^{j \\Omega}\\right)$ can be determined numerically via Matlab (or alternatively Octave, Python).\n",
    "\n",
    "(a) Create a Matlab function, that is able to calculate the DTFT of a finite sequence. The function should provide the following interface:\n",
    "\n",
    "![](https://cdn.mathpix.com/cropped/2024_04_16_05aa650c2cf9d2378737g-2.jpg?height=363&width=1619&top_left_y=1882&top_left_x=279)\n",
    "\n",
    "Try to avoid for loops! You are still allowed to use for loops, however there will be a small deduction in points for the case you need to use for loops.\n",
    "\n",
    "(b) Plot magnitude and phase response of $X\\left(e^{j \\Omega}\\right)$ for the interval $-\\pi \\leq \\Omega \\leq \\pi$ within single subplots. What do you observe for the phase response (hint: you should have a close look at the scaling of the $y$ axis)?\n",
    "\n",
    "(c) Vary the parameter $\\Omega$. What do you observe in the spectrum?\n",
    "\n"
   ],
   "id": "c679b6d41a873a4d"
  },
  {
   "cell_type": "code",
   "execution_count": null,
   "outputs": [],
   "source": [],
   "metadata": {
    "collapsed": false
   },
   "id": "858197675e32c25f"
  }
 ],
 "metadata": {
  "kernelspec": {
   "display_name": "Python 3",
   "language": "python",
   "name": "python3"
  },
  "language_info": {
   "codemirror_mode": {
    "name": "ipython",
    "version": 2
   },
   "file_extension": ".py",
   "mimetype": "text/x-python",
   "name": "python",
   "nbconvert_exporter": "python",
   "pygments_lexer": "ipython2",
   "version": "2.7.6"
  }
 },
 "nbformat": 4,
 "nbformat_minor": 5
}
